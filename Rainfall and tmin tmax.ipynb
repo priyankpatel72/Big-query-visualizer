{
 "cells": [
  {
   "cell_type": "code",
   "execution_count": 1,
   "metadata": {},
   "outputs": [],
   "source": [
    "import pandas as pd\n",
    "import numpy as np\n",
    "import matplotlib.pyplot as plt"
   ]
  },
  {
   "cell_type": "code",
   "execution_count": 2,
   "metadata": {},
   "outputs": [],
   "source": [
    "from google.cloud import bigquery\n",
    "PROJECT_ID = \"big-query-database\"\n",
    "client = bigquery.Client(project = PROJECT_ID)"
   ]
  },
  {
   "cell_type": "code",
   "execution_count": null,
   "metadata": {},
   "outputs": [],
   "source": [
    "query1 = \"\"\"\n",
    "SELECT\n",
    "    date,\n",
    "    MAX(prcp) AS prcp,\n",
    "    MAX(tmin) AS tmin,\n",
    "    MAX(tmax) AS tmax\n",
    "FROM (\n",
    "    SELECT \n",
    "        wx.date AS date,\n",
    "        IF (wx.element = 'PRCP', wx.value/10, NULL) AS prcp,\n",
    "        IF (wx.element = 'TMIN', wx.value/10, NULL) AS tmin,\n",
    "        IF (wx.element = 'TMAX', wx.value/10, NULL) AS tmax\n",
    "    FROM\n",
    "        `bigquery-public-data.ghcn_d.ghcnd_2020` AS wx\n",
    "    WHERE\n",
    "        id = 'USW00094846'\n",
    "        AND DATE_DIFF(CURRENT_DATE(), wx.date, DAY) < 15\n",
    ")\n",
    "GROUP BY\n",
    "    date\n",
    "ORDER BY\n",
    "    date ASC;\n",
    "\"\"\""
   ]
  },
  {
   "cell_type": "code",
   "execution_count": null,
   "metadata": {},
   "outputs": [],
   "source": [
    "response = client.query(query1).to_dataframe()"
   ]
  },
  {
   "cell_type": "code",
   "execution_count": null,
   "metadata": {},
   "outputs": [],
   "source": [
    "response.head()"
   ]
  },
  {
   "cell_type": "code",
   "execution_count": null,
   "metadata": {},
   "outputs": [],
   "source": []
  },
  {
   "cell_type": "code",
   "execution_count": null,
   "metadata": {},
   "outputs": [],
   "source": []
  },
  {
   "cell_type": "code",
   "execution_count": null,
   "metadata": {},
   "outputs": [],
   "source": []
  },
  {
   "cell_type": "code",
   "execution_count": null,
   "metadata": {},
   "outputs": [],
   "source": []
  },
  {
   "cell_type": "code",
   "execution_count": null,
   "metadata": {},
   "outputs": [],
   "source": []
  },
  {
   "cell_type": "code",
   "execution_count": null,
   "metadata": {},
   "outputs": [],
   "source": []
  }
 ],
 "metadata": {
  "kernelspec": {
   "display_name": "Python 3",
   "language": "python",
   "name": "python3"
  },
  "language_info": {
   "codemirror_mode": {
    "name": "ipython",
    "version": 3
   },
   "file_extension": ".py",
   "mimetype": "text/x-python",
   "name": "python",
   "nbconvert_exporter": "python",
   "pygments_lexer": "ipython3",
   "version": "3.7.3"
  }
 },
 "nbformat": 4,
 "nbformat_minor": 2
}
